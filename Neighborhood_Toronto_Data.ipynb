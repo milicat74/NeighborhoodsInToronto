{
    "cells": [
        {
            "metadata": {
                "collapsed": true
            },
            "cell_type": "markdown",
            "source": "<h1 align=center><font size = 5>Segmenting and Clustering Neighborhoods in Toronto</font></h1>"
        },
        {
            "metadata": {},
            "cell_type": "markdown",
            "source": "## Introduction to assignment - Scraping data"
        },
        {
            "metadata": {},
            "cell_type": "markdown",
            "source": "The goal of this assignment is to show neighborhoods in Toronto through exploring, segmenting and clustering. First, the data will be scraped from Wikipedia page. After that, it will be preprocesed and cleaned, prepered for futher work."
        },
        {
            "metadata": {},
            "cell_type": "markdown",
            "source": "## Libraries"
        },
        {
            "metadata": {},
            "cell_type": "markdown",
            "source": "Downloading all dependencies that will be required."
        },
        {
            "metadata": {},
            "cell_type": "code",
            "source": "import pandas as pd #library for data analsysis\nimport numpy as np #library to handle data in a vectorized manner\nimport requests #library to handle requests\nimport urllib.request #library to use to open URLs\nimport bs4\nfrom bs4 import BeautifulSoup #library to import the BeautifulSoup library so we can parse HTML and XML documents\nprint('Libraries imported.')",
            "execution_count": 1,
            "outputs": [
                {
                    "output_type": "stream",
                    "text": "Libraries imported.\n",
                    "name": "stdout"
                }
            ]
        },
        {
            "metadata": {},
            "cell_type": "markdown",
            "source": "## Downloading dataset and reading/cleaning/preprocesing data"
        },
        {
            "metadata": {},
            "cell_type": "markdown",
            "source": "Using BeautifulSooup, data'll be grabed from the website and prepared to fit into dataframe."
        },
        {
            "metadata": {},
            "cell_type": "code",
            "source": "page = requests.get('https://en.wikipedia.org/wiki/List_of_postal_codes_of_Canada:_M')\n# transform page with BeautifulSoup\nsoup = BeautifulSoup(page.content, 'html.parser')\n\n# find table with specific class definition - after page source manual examination\ngdp = soup.find_all(\"table\", attrs={\"class\": \"wikitable sortable\"})\nprint(\"Number of tables on site: \", len(gdp))\ntable = gdp[0]  # first and only table that is selected is one that interest us\n\npostcodes_dict = {}  # initialize an empty dictionary to save the data in\nskip_first = False  # first row in table needs to be skipped, since it is header\n\nfor table_cell in table.find_all('tr'):\n    try:\n        if skip_first:\n            row_data = table_cell.find_all('td')\n            # let us first investigate shall we skip the record\n            borough = row_data[1].text.strip('\\n')\n            if borough != 'Not assigned':  # skip all that are not assigned\n                neighborhoods = row_data[2].text.strip('\\n')\n                if neighborhoods == 'Not assigned':  # if borough exists but no neighborhood, they are the same\n                    neighborhoods = borough\n                postal_code = row_data[0].text.strip('\\n')\n                if postal_code in postcodes_dict.keys():  # join neighborhoods_data if postal code already exists\n                    postcodes_dict[postal_code]['neighborhoods'] = \\\n                        postcodes_dict[postal_code]['neighborhoods'] + ', ' + neighborhoods\n                else:  # everything is fine, add new postal_code key into dictionary\n                    postcodes_dict[postal_code] = {}\n                    # add borough and neighborhood to dictionary\n                    postcodes_dict[postal_code]['borough'] = borough\n                    postcodes_dict[postal_code]['neighborhoods'] = neighborhoods\n        else:\n            skip_first = True\n    except SystemError as error:\n        print(error)\n\n    ",
            "execution_count": 2,
            "outputs": [
                {
                    "output_type": "stream",
                    "text": "Number of tables on site:  1\n",
                    "name": "stdout"
                }
            ]
        },
        {
            "metadata": {},
            "cell_type": "markdown",
            "source": "## Put data into dataframe"
        },
        {
            "metadata": {},
            "cell_type": "markdown",
            "source": "Preprocesed data'll load into dataframe and printed as a table."
        },
        {
            "metadata": {},
            "cell_type": "code",
            "source": "# empty dataframe\ncolumns = ['PostalCode', 'Borough', 'Neighborhood']\ndata_toronto = pd.DataFrame(columns=columns)\n# populate dataframe\nfor ind, postal_code in enumerate(postcodes_dict):\n    borough = postcodes_dict[postal_code]['borough']\n    neighborhood = postcodes_dict[postal_code]['neighborhoods']\n    data_toronto = data_toronto.append({\"PostalCode\": postal_code,\n                                        \"Borough\": borough,\n                                        \"Neighborhood\": neighborhood},\n                                        ignore_index=True)",
            "execution_count": 3,
            "outputs": []
        },
        {
            "metadata": {},
            "cell_type": "code",
            "source": "# print number of rows of dataframe\nprint(data_toronto.shape[0])\nprint()\ndata_toronto",
            "execution_count": 4,
            "outputs": [
                {
                    "output_type": "stream",
                    "text": "103\n\n",
                    "name": "stdout"
                },
                {
                    "output_type": "execute_result",
                    "execution_count": 4,
                    "data": {
                        "text/plain": "    PostalCode           Borough  \\\n0          M3A        North York   \n1          M4A        North York   \n2          M5A  Downtown Toronto   \n3          M6A        North York   \n4          M7A  Downtown Toronto   \n..         ...               ...   \n98         M8X         Etobicoke   \n99         M4Y  Downtown Toronto   \n100        M7Y      East Toronto   \n101        M8Y         Etobicoke   \n102        M8Z         Etobicoke   \n\n                                          Neighborhood  \n0                                            Parkwoods  \n1                                     Victoria Village  \n2                            Regent Park, Harbourfront  \n3                     Lawrence Manor, Lawrence Heights  \n4          Queen's Park, Ontario Provincial Government  \n..                                                 ...  \n98       The Kingsway, Montgomery Road, Old Mill North  \n99                                Church and Wellesley  \n100  Business reply mail Processing Centre, South C...  \n101  Old Mill South, King's Mill Park, Sunnylea, Hu...  \n102  Mimico NW, The Queensway West, South of Bloor,...  \n\n[103 rows x 3 columns]",
                        "text/html": "<div>\n<style scoped>\n    .dataframe tbody tr th:only-of-type {\n        vertical-align: middle;\n    }\n\n    .dataframe tbody tr th {\n        vertical-align: top;\n    }\n\n    .dataframe thead th {\n        text-align: right;\n    }\n</style>\n<table border=\"1\" class=\"dataframe\">\n  <thead>\n    <tr style=\"text-align: right;\">\n      <th></th>\n      <th>PostalCode</th>\n      <th>Borough</th>\n      <th>Neighborhood</th>\n    </tr>\n  </thead>\n  <tbody>\n    <tr>\n      <th>0</th>\n      <td>M3A</td>\n      <td>North York</td>\n      <td>Parkwoods</td>\n    </tr>\n    <tr>\n      <th>1</th>\n      <td>M4A</td>\n      <td>North York</td>\n      <td>Victoria Village</td>\n    </tr>\n    <tr>\n      <th>2</th>\n      <td>M5A</td>\n      <td>Downtown Toronto</td>\n      <td>Regent Park, Harbourfront</td>\n    </tr>\n    <tr>\n      <th>3</th>\n      <td>M6A</td>\n      <td>North York</td>\n      <td>Lawrence Manor, Lawrence Heights</td>\n    </tr>\n    <tr>\n      <th>4</th>\n      <td>M7A</td>\n      <td>Downtown Toronto</td>\n      <td>Queen's Park, Ontario Provincial Government</td>\n    </tr>\n    <tr>\n      <th>...</th>\n      <td>...</td>\n      <td>...</td>\n      <td>...</td>\n    </tr>\n    <tr>\n      <th>98</th>\n      <td>M8X</td>\n      <td>Etobicoke</td>\n      <td>The Kingsway, Montgomery Road, Old Mill North</td>\n    </tr>\n    <tr>\n      <th>99</th>\n      <td>M4Y</td>\n      <td>Downtown Toronto</td>\n      <td>Church and Wellesley</td>\n    </tr>\n    <tr>\n      <th>100</th>\n      <td>M7Y</td>\n      <td>East Toronto</td>\n      <td>Business reply mail Processing Centre, South C...</td>\n    </tr>\n    <tr>\n      <th>101</th>\n      <td>M8Y</td>\n      <td>Etobicoke</td>\n      <td>Old Mill South, King's Mill Park, Sunnylea, Hu...</td>\n    </tr>\n    <tr>\n      <th>102</th>\n      <td>M8Z</td>\n      <td>Etobicoke</td>\n      <td>Mimico NW, The Queensway West, South of Bloor,...</td>\n    </tr>\n  </tbody>\n</table>\n<p>103 rows \u00d7 3 columns</p>\n</div>"
                    },
                    "metadata": {}
                }
            ]
        },
        {
            "metadata": {},
            "cell_type": "code",
            "source": "print(\"Shape is:\" , data_toronto.shape)",
            "execution_count": 5,
            "outputs": [
                {
                    "output_type": "stream",
                    "text": "Shape is: (103, 3)\n",
                    "name": "stdout"
                }
            ]
        }
    ],
    "metadata": {
        "kernelspec": {
            "name": "python3",
            "display_name": "Python 3.7",
            "language": "python"
        },
        "language_info": {
            "name": "python",
            "version": "3.7.9",
            "mimetype": "text/x-python",
            "codemirror_mode": {
                "name": "ipython",
                "version": 3
            },
            "pygments_lexer": "ipython3",
            "nbconvert_exporter": "python",
            "file_extension": ".py"
        }
    },
    "nbformat": 4,
    "nbformat_minor": 1
}